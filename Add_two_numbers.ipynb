{
  "nbformat": 4,
  "nbformat_minor": 0,
  "metadata": {
    "colab": {
      "name": "Add two numbers.ipynb",
      "provenance": [],
      "collapsed_sections": [],
      "authorship_tag": "ABX9TyOJSelcwwXSXwynEFqeCPbB",
      "include_colab_link": true
    },
    "kernelspec": {
      "name": "python3",
      "display_name": "Python 3"
    }
  },
  "cells": [
    {
      "cell_type": "markdown",
      "metadata": {
        "id": "view-in-github",
        "colab_type": "text"
      },
      "source": [
        "<a href=\"https://colab.research.google.com/github/SowmyaaRamesh/Python-code/blob/main/Add_two_numbers.ipynb\" target=\"_parent\"><img src=\"https://colab.research.google.com/assets/colab-badge.svg\" alt=\"Open In Colab\"/></a>"
      ]
    },
    {
      "cell_type": "code",
      "metadata": {
        "id": "XacLk77xKckU"
      },
      "source": [
        "def addTwoNumbers(l1,l2):\n",
        "\n",
        "  carry = 0\n",
        "  sum = []\n",
        "  if(len(l1)<len(l2)):\n",
        "    smaller_num = l1\n",
        "  else:\n",
        "    smaller_num = l2\n",
        "  \n",
        "  for i in range(abs(len(l1)-len(l2))):\n",
        "    smaller_num.append(0)\n",
        "    \n",
        "  l1 = l1[::-1]\n",
        "  l2 = l2[::-1]\n",
        "\n",
        "  for i in range(len(l1)-1, -1, -1):\n",
        "    s = l1[i] + l2[i] + carry\n",
        "    carry = 0\n",
        "    if(s > 9): #if it's a two digit number then the Most significant digit should be the carry\n",
        "      sum.append(s%10)\n",
        "      carry = s//10\n",
        "    else:\n",
        "      sum.append(s)\n",
        "  if(carry > 0):\n",
        "    sum.append(carry)\n",
        "  return sum\n",
        "\n",
        "\n",
        "\n"
      ],
      "execution_count": 43,
      "outputs": []
    },
    {
      "cell_type": "code",
      "metadata": {
        "id": "zr_aWZrhKuVB",
        "outputId": "507a8a86-6b52-40ac-fa7c-d95123827bda",
        "colab": {
          "base_uri": "https://localhost:8080/"
        }
      },
      "source": [
        "print(addTwoNumbers([2,4,3], [5, 6, 4]))"
      ],
      "execution_count": 44,
      "outputs": [
        {
          "output_type": "stream",
          "text": [
            "[7, 0, 8]\n"
          ],
          "name": "stdout"
        }
      ]
    },
    {
      "cell_type": "code",
      "metadata": {
        "id": "JrGwN7o3RTgG",
        "outputId": "bf68e12e-c4ed-471a-d65b-4ae45d7736cb",
        "colab": {
          "base_uri": "https://localhost:8080/"
        }
      },
      "source": [
        "print(addTwoNumbers([9, 9, 9, 9, 9, 9, 9], [9, 9, 9, 9]))"
      ],
      "execution_count": 45,
      "outputs": [
        {
          "output_type": "stream",
          "text": [
            "[8, 9, 9, 9, 0, 0, 0, 1]\n"
          ],
          "name": "stdout"
        }
      ]
    }
  ]
}